{
  "nbformat": 4,
  "nbformat_minor": 0,
  "metadata": {
    "colab": {
      "provenance": []
    },
    "kernelspec": {
      "name": "python3",
      "display_name": "Python 3"
    },
    "language_info": {
      "name": "python"
    }
  },
  "cells": [
    {
      "cell_type": "markdown",
      "source": [
        "# Resolução do Problema das 8 rainhas utilizando o algoritmo de Holland"
      ],
      "metadata": {
        "id": "b2_4d7xqvc6x"
      }
    },
    {
      "cell_type": "markdown",
      "source": [
        "## Problema das 8 rainhas\n",
        "\n",
        "O problema das 8 rainhas é um problema de lógica e matemática que consiste em colocar 8 rainhas em um tabuleiro de xadrez de 8x8 de forma que nenhuma delas sejam atacadas pelas demais. O objetivo é encontrar todas as soluções possíveis para esse problema. É considerado um problema clássico de inteligência artificial e programação.\n",
        "\n",
        "![teste](data:image/png;base64,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)\n",
        "\n"
      ],
      "metadata": {
        "id": "A94TySzkwlYJ"
      }
    },
    {
      "cell_type": "markdown",
      "source": [
        "## Algoritmo de Holland\n",
        "\n",
        "O Algoritmo de Holland é um algoritmo genético, que é um tipo de algoritmo de otimização inspirado no processo evolutivo da natureza. Ele foi desenvolvido por John Holland na década de 1970 e é usado para resolver problemas complexos de otimização. O algoritmo funciona criando uma população inicial de soluções possíveis para o problema e, em seguida, usando operações de seleção, recombinação e mutação para evoluir a população ao longo de várias gerações, com o objetivo de encontrar a solução ótima. É amplamente utilizado em muitos campos, incluindo engenharia, ciência da computação e finanças."
      ],
      "metadata": {
        "id": "R1hVg-DMx8Zs"
      }
    },
    {
      "cell_type": "code",
      "source": [
        "# imports necessários\n",
        "\n",
        "import random"
      ],
      "metadata": {
        "id": "ZUHn8BviyT7U"
      },
      "execution_count": null,
      "outputs": []
    },
    {
      "cell_type": "code",
      "source": [
        "# Função que avalia a aptidão de um indivíduo\n",
        "\n",
        "def avalia_aptidao(individuo):\n",
        "    aptidao = 0\n",
        "    n = len(individuo)\n",
        "    # Verifica se há rainhas na mesma coluna ou na mesma diagonal\n",
        "    for i in range(n):\n",
        "        for j in range(i+1, n):\n",
        "            if individuo[i] == individuo[j]:\n",
        "                aptidao += 1\n",
        "            elif abs(i - j) == abs(individuo[i] - individuo[j]):\n",
        "                aptidao += 1\n",
        "    return aptidao"
      ],
      "metadata": {
        "id": "y7VCIADE2mjj"
      },
      "execution_count": 7,
      "outputs": []
    },
    {
      "cell_type": "code",
      "source": [
        "# Função que gera a população inicial\n",
        "\n",
        "# n: numero de rainhas no tabuleiro\n",
        "# size: número de indivíduos que formam a população (que foi gerada aleatoriamente)\n",
        "\n",
        "def gera_populacao(n, size):\n",
        "    populacao = []\n",
        "    # Gera indivíduos aleatórios\n",
        "    for i in range(size):\n",
        "        individuo = random.sample(range(n), n)\n",
        "        populacao.append((individuo, avalia_aptidao(individuo)))\n",
        "    return populacao"
      ],
      "metadata": {
        "id": "x__YlS1E24Rk"
      },
      "execution_count": 8,
      "outputs": []
    },
    {
      "cell_type": "code",
      "source": [
        "# Função que seleciona os melhores indivíduos\n",
        "\n",
        "# populacao: é a lista de indivíduos que formam a população do algoritmo genético\n",
        "# n_elites: número de indivíduos que serão selecionados para a próxima geração sem serem submetidos às operações de cruzamento e mutação\n",
        "\n",
        "def selecao(populacao, n_elites):\n",
        "    # Ordena a população pela aptidao\n",
        "    populacao.sort(key=lambda x: x[1])\n",
        "    # Seleciona os n_elites indivíduos com menor aptidao\n",
        "    return populacao[:n_elites]"
      ],
      "metadata": {
        "id": "Tx4p2NgG5a1h"
      },
      "execution_count": 4,
      "outputs": []
    },
    {
      "cell_type": "code",
      "source": [
        "# Função que faz o cruzamento entre dois pais\n",
        "\n",
        "# parent1: é o primeiro indivíduo a ser utilizado no cruzamento.\n",
        "# parent2: é o segundo indivíduo a ser utilizado no cruzamento.\n",
        "\n",
        "def cruzamento(parent1, parent2):\n",
        "    # n é o tamanho da representação de cada indivíduo na população\n",
        "    n = len(parent1)\n",
        "    # define o ponto de corte no cruzamento dos pais, selecionando um número aleatório entre 0 e n-1\n",
        "    c = random.randint(0, n - 1)\n",
        "    # Cria dois filhos com partes dos pais\n",
        "    return parent1[:c] + parent2[c:], parent2[:c] + parent1[c:]"
      ],
      "metadata": {
        "id": "eT5Cv9H_6DM7"
      },
      "execution_count": 6,
      "outputs": []
    },
    {
      "cell_type": "code",
      "source": [
        "# Função que realiza a mutação em um indivíduo\n",
        "\n",
        "# individuo: é o indivíduo que será submetido à mutação.\n",
        "# p: é a probabilidade de que uma mutação ocorra em um gene específico do indivíduo.\n",
        "\n",
        "def mutacao(individuo, p):\n",
        "    # n é o tamanho do tabuleiro\n",
        "    n = len(individuo)\n",
        "    # Verifica se a mutação será realizada\n",
        "    if random.random() < p:\n",
        "        i = random.randint(0, n - 1)\n",
        "        j = random.randint(0, n - 1)\n",
        "        # Troca aleatoriamente dois elementos\n",
        "        individuo[i], individuo[j] = individuo[j], individuo[i]\n",
        "    return individuo, avalia_aptidao(individuo)"
      ],
      "metadata": {
        "id": "IDYczT8-7zaH"
      },
      "execution_count": 9,
      "outputs": []
    },
    {
      "cell_type": "code",
      "source": [
        "# Função principal que implementa o Algoritmo de Holland\n",
        "\n",
        "# n: o tamanho do problema, ou seja, o número de rainhas (8 para o problema das oito rainhas).\n",
        "# size: o tamanho da população de indivíduos.\n",
        "# n_elites: o número de indivíduos \"elite\" a serem mantidos na próxima geração.\n",
        "# p_mutacao: a probabilidade de que um indivíduo sofra mutação.\n",
        "# n_generations: o número de gerações que o algoritmo irá executar.\n",
        "\n",
        "def holland(n, size, n_elites, p_mutacao, n_geracoes):\n",
        "   # Gera a população inicial\n",
        "    populacao = gera_populacao(n, size)\n",
        "    # Executa o algoritmo por n_geracoes\n",
        "    for i in range(n_geracoes):\n",
        "        # Seleciona os melhores indivíduos\n",
        "        populacao = selecao(populacao, n_elites)\n",
        "        nova_populacao = []\n",
        "        # Gera novos indivíduos por meio de crossover e mutação\n",
        "        for j in range(0, size, 2):\n",
        "            parent1, parent2 = random.sample(populacao, 2)\n",
        "            child1, child2 = cruzamento(parent1[0], parent2[0])\n",
        "            child1, aptidao1 = mutacao(child1, p_mutacao)\n",
        "            child2, aptdao2 = mutacao(child2, p_mutacao)\n",
        "            nova_populacao.append((child1, aptidao1))\n",
        "            nova_populacao.append((child2, aptdao2))\n",
        "        populacao = nova_populacao\n",
        "    # forma de ordenar a lista de acordo com a avaliação da aptidão dos indivíduos\n",
        "    populacao.sort(key=lambda x: x[1])\n",
        "    return populacao[0][0]"
      ],
      "metadata": {
        "id": "Gh8d-eav9ewl"
      },
      "execution_count": 11,
      "outputs": []
    },
    {
      "cell_type": "code",
      "source": [
        "# elaborando uma solução\n",
        "\n",
        "resultado = holland(8, 100, 20, 0.01, 100)\n",
        "print(resultado)\n",
        "\n",
        "# resultado será um array onde cada posição indica a coluna do tabuleiro em que a rainha se encontra e o valor contido nela a linha\n",
        "\n",
        "# Por exemplo, no array [6, 4, 2, 0, 3, 1, 7, 5], o número 6 indica que a rainha na coluna 0 está posicionada na linha 6."
      ],
      "metadata": {
        "colab": {
          "base_uri": "https://localhost:8080/"
        },
        "id": "i1_5Oj2__OgV",
        "outputId": "aed1b095-d116-431a-b588-9783ff63f094"
      },
      "execution_count": 12,
      "outputs": [
        {
          "output_type": "stream",
          "name": "stdout",
          "text": [
            "[6, 4, 2, 0, 3, 1, 7, 5]\n"
          ]
        }
      ]
    }
  ]
}